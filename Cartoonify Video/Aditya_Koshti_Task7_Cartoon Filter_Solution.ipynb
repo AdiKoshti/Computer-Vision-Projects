{
 "cells": [
  {
   "cell_type": "markdown",
   "id": "531e4322-561f-4466-b826-4e72415b9bd5",
   "metadata": {},
   "source": [
    "# ASSIGNMENT: Cartoon Face Mask\n",
    "## This assignment tests your ability to apply face recognition, image masks, image thresholding, video capturing and saving video feed into a video file concepts."
   ]
  },
  {
   "cell_type": "markdown",
   "id": "bcfd2070-1fc6-4d88-b303-7fb7fdad41a8",
   "metadata": {},
   "source": [
    "## TASK: Cartoonify faces in video feed from live webcam\n",
    "\n",
    "### Steps\n",
    "- 1. **Capture video** feed from webcam\n",
    "- 2. **Recognize faces** in the video\n",
    "- 3. **Replace/Mask the face** region with your favorite cartoon character\n",
    "- 4. **Save the video** feed into a video file\n",
    "- 5. Submit the following files\n",
    "    - Notebook (.ipynb)\n",
    "    - Video (.avi/.mp4)"
   ]
  },
  {
   "cell_type": "code",
   "execution_count": 5,
   "id": "c75ceb9d-4bb5-4c79-9b58-95ca87869120",
   "metadata": {},
   "outputs": [],
   "source": [
    "import cv2\n",
    "import os\n",
    "\n",
    "# Step 1: Capture video feed from webcam\n",
    "video_capture = cv2.VideoCapture(0)\n",
    "\n",
    "# Step 2: Load face and eye cascade classifiers\n",
    "cascPathface = os.path.dirname(cv2.__file__) + \"/data/haarcascade_frontalface_alt2.xml\"\n",
    "cascPatheyes = os.path.dirname(cv2.__file__) + \"/data/haarcascade_eye_tree_eyeglasses.xml\"\n",
    "faceCascade = cv2.CascadeClassifier(cascPathface)\n",
    "eyeCascade = cv2.CascadeClassifier(cascPatheyes)\n",
    "\n",
    "# Step 3: Load cartoon character mask\n",
    "mask_image = cv2.imread('C:/Users/Admin/Downloads/popeye.png')  # Update with your favorite cartoon character\n",
    "\n",
    "# Step 4: Define video writer object\n",
    "fourcc = cv2.VideoWriter_fourcc(*'mp4v')\n",
    "out = cv2.VideoWriter('cartoonified_video.mp4', fourcc, 20.0, (640, 480))  # Update resolution as needed\n",
    "\n",
    "while True:\n",
    "    # Capture frame-by-frame\n",
    "    ret, frame = video_capture.read()\n",
    "    if not ret:\n",
    "        break\n",
    "\n",
    "    # Convert frame to grayscale\n",
    "    gray = cv2.cvtColor(frame, cv2.COLOR_BGR2GRAY)\n",
    "\n",
    "    # Detect faces\n",
    "    faces = faceCascade.detectMultiScale(gray, scaleFactor=1.1, minNeighbors=5, minSize=(60, 60))\n",
    "\n",
    "    for (x, y, w, h) in faces:\n",
    "        # Draw rectangle around the face\n",
    "        cv2.rectangle(frame, (x, y), (x + w, y + h), (0, 255, 0), 2)\n",
    "\n",
    "        # Extract face ROI\n",
    "        faceROI = frame[y:y+h, x:x+w]\n",
    "\n",
    "        # Detect eyes\n",
    "        eyes = eyeCascade.detectMultiScale(faceROI)\n",
    "\n",
    "        # Draw circles around eyes\n",
    "        for (ex, ey, ew, eh) in eyes:\n",
    "            eye_center = (x + ex + ew // 2, y + ey + eh // 2)\n",
    "            radius = int(round((ew + eh) * 0.25))\n",
    "            cv2.circle(frame, eye_center, radius, (255, 0, 0), 4)\n",
    "\n",
    "        # Apply cartoon character mask\n",
    "        if mask_image is not None:\n",
    "            mask_image_resized = cv2.resize(mask_image, (w, h))\n",
    "            mask_image_gray = cv2.cvtColor(mask_image_resized, cv2.COLOR_BGR2GRAY)\n",
    "            _, face_mask = cv2.threshold(mask_image_gray, 25, 255, cv2.THRESH_BINARY_INV)\n",
    "            face_mask_no_face = cv2.bitwise_and(faceROI, faceROI, mask=face_mask)\n",
    "            cartoonified_face = cv2.add(face_mask_no_face, mask_image_resized)\n",
    "            frame[y:y+h, x:x+w] = cartoonified_face\n",
    "\n",
    "    # Display the resulting frame\n",
    "    cv2.imshow('Cartoonified Video', frame)\n",
    "    out.write(frame)\n",
    "\n",
    "    if cv2.waitKey(1) & 0xFF == ord('q'):\n",
    "        break\n",
    "\n",
    "# Release video capture and writer objects\n",
    "video_capture.release()\n",
    "out.release()\n",
    "cv2.destroyAllWindows()\n"
   ]
  }
 ],
 "metadata": {
  "kernelspec": {
   "display_name": "Python 3 (ipykernel)",
   "language": "python",
   "name": "python3"
  },
  "language_info": {
   "codemirror_mode": {
    "name": "ipython",
    "version": 3
   },
   "file_extension": ".py",
   "mimetype": "text/x-python",
   "name": "python",
   "nbconvert_exporter": "python",
   "pygments_lexer": "ipython3",
   "version": "3.11.7"
  }
 },
 "nbformat": 4,
 "nbformat_minor": 5
}
